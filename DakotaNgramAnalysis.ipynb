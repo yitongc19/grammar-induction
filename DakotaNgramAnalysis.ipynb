{
 "cells": [
  {
   "cell_type": "markdown",
   "metadata": {},
   "source": [
    " # Statistical Analysis of Dakota\n",
    "\n",
    "## Corpus\n",
    "[Transcription from Sisseton-Wahpeton Oyate Dakotah Language Institute (SWODLI)](https://docs.google.com/spreadsheets/d/1ixJatzeU1vDluVwttnm04a3swpodSOnoiGVlHz1QTkY/edit#gid=1036955163\n",
    "### Encoding\n",
    "Data is UTF-8 encoded. \n",
    "\n",
    "## Ngram Analysis\n",
    "### Building a basic n-gram generator\n",
    "\n",
    "The following code builds a most basic n-gram generator and shows the result of a naive analysis of the data. "
   ]
  },
  {
   "cell_type": "code",
   "execution_count": 20,
   "metadata": {},
   "outputs": [
    {
     "name": "stdout",
     "output_type": "stream",
     "text": [
      "Start word:  tipi\n",
      "2 -gram sentence:\n",
      "tipi heciya bde kte taku owas omaƞg hena taku owas\n",
      "3 -gram sentence:\n",
      "tipi hed waniyaka ciƞ iyagezizi num caḣdi uƞkaġapi Frosty iyaye\n",
      "4 -gram sentence:\n",
      "tipi kaġapi. heun sistuƞwaƞ waḣpetuƞ dakota magic hed aƞpetu waṡte\n",
      "5 -gram sentence:\n",
      "tipi bde kte hed inawajiƞ kte he tuwe asaƞpi suta\n"
     ]
    }
   ],
   "source": [
    "import n_gram\n",
    "\n",
    "n_gram.main()"
   ]
  },
  {
   "cell_type": "markdown",
   "metadata": {},
   "source": [
    "### Using the NLTK library\n",
    "The module nltk_analysis analyze the data using the NLTK library."
   ]
  },
  {
   "cell_type": "markdown",
   "metadata": {},
   "source": [
    "### Word level analysis\n",
    "Most with highest frequency appears to belong to close categories as expected:\n",
    "* *he* is proposed to be the Question marker. \n",
    "* *kte* is proposed to be the Present Tense marker.\n",
    "* *de* is proposed to be demonstrative.\n",
    "* *taku* is translated to \"something, what\"\n",
    "* *hena* is proposed to be demonstrative.\n",
    "* *tuwe* is translated to \"who\".\n",
    "* *ka* is proposed to be the definite marker.\n",
    "* *sni* is the negation marker.\n",
    "* *uŋ* might be the indefinite marker; when used as pronominal clitic, it marks the dual form.\n",
    "\n",
    "Other highly-frequent words are common verbs such as \"eat\".\n",
    "\n",
    "Bigram analysis also demonstrated some common word pairs. However, trigrams, four-grams and five-grams more likely revealed some bias of the corpus rather than some properties of the language.\n",
    "\n",
    "#### Analysis with line breakers: provide information about the position of words / phrases in a given sentence \n",
    "- *he* appears most frequently in sentence final positions\n",
    "\n",
    "#### 10-fold cross-validation\n",
    "To avoid overfitting the data, we run a 10-fold cross-validation on the dataset. Specifically, we tested two things: inversion in frequency rankings and standard deviation of word probability. The result shows that bigram and trigram are very stable."
   ]
  },
  {
   "cell_type": "code",
   "execution_count": 3,
   "metadata": {},
   "outputs": [
    {
     "name": "stdout",
     "output_type": "stream",
     "text": [
      "\n",
      "\n",
      "Ngram analysis on words\n",
      "['he', 'kte', 'de', 'taku', 'hena', 'tuwe', 'ṡni', 'k̇a', 'aƞpetu', 'ka', 'kta', 'nina', 'kiƞhaƞ', 'uƞ', 'ḳa']\n",
      "-----------*------------\n",
      "['bde kte', 'kta he', 'yaciƞ he', 'aƞpetu de', 'duha he', 'waziya aƞpetu', 'wayata he', 'ye kte', 'de kta', 'mni kata']\n",
      "-----------*------------\n",
      "['de kta he', 'takoja tataŋka cepa', 'tataŋka cepa opta', 'cepa opta iyaye', 'opta iyaye ake', 'thumpety thump thump', 'waci wokayake teca', 'wisdodye ohnakapi koka', 'wokayake teca waƞ', 'thump thump thumpety']\n",
      "-----------*------------\n"
     ]
    }
   ],
   "source": [
    "import nltk_analysis\n",
    "\n",
    "nltk_analysis.test_words()"
   ]
  },
  {
   "cell_type": "markdown",
   "metadata": {},
   "source": [
    "### Substring level analysis\n",
    "#### Morphemes\n",
    "\n",
    "The most frequent bigrams are meaningful morphemes --> personal pronoun\n",
    "\n",
    "##### Drawbacks \n",
    "Nonsence substrings.\n",
    "#### Syllables\n",
    "##### Assumptions \n",
    "##### Observations \n",
    "\n",
    "CV is the dominant syllable structure.\n",
    "Single vowel.\n",
    "CCV"
   ]
  },
  {
   "cell_type": "code",
   "execution_count": 2,
   "metadata": {
    "scrolled": true
   },
   "outputs": [
    {
     "name": "stdout",
     "output_type": "stream",
     "text": [
      "\n",
      "\n",
      "Ngram analysis on morphemes\n",
      "['ya', 'wa', 'ta', 'ka', 'ak', 'aƞ', 'pi', 'na', 'iy', 'he', 'ap', 'ca', 'ni', 'te', 'ha', 'ṡ', 'aŋ', 'ah', 'ki', 'ic']\n",
      "-----------*------------\n",
      "['iya', 'api', 'aka', 'ica', 'aya', 'haƞ', 'yap', 'kte', 'owa', 'tak', 'was', '̇ni', 'iye', 'aṡ', 'awa', 'ena', 'etu', 'aḣ', 'kiy', 'tok']\n",
      "-----------*------------\n",
      "['yapi', 'kiya', 'ṡni', 'wica', 'taku', 'petu', 'ciya', 'aṡt', 'ƞhaƞ', 'waṡ', 'waka', 'hena', 'iyay', 'ṡte', 'tawa', 'waci', 'aƞna', 'tuwe', 'heha', 'kapi']\n",
      "-----------*------------\n",
      "\n",
      "\n",
      "Frequency test on syllables\n",
      "['he', 'wa', 'ya', 'i', 'pi', 'ta', 'pe', 'a', 'na', 'ka', 'ni', 'ca', 'wo', 'ke', 'pa', 'zi', 'hi', 'tu', 'ma', 'ki', 'o', 'kta', 'yaƞ', 'ci', 'ṡ', 'ska', 'ju', 'ku', 'wi', 'ṡni']\n"
     ]
    }
   ],
   "source": [
    "import nltk_analysis\n",
    "\n",
    "nltk_analysis.test_substrings()"
   ]
  },
  {
   "cell_type": "code",
   "execution_count": null,
   "metadata": {},
   "outputs": [],
   "source": []
  }
 ],
 "metadata": {
  "kernelspec": {
   "display_name": "Python 3",
   "language": "python",
   "name": "python3"
  },
  "language_info": {
   "codemirror_mode": {
    "name": "ipython",
    "version": 3
   },
   "file_extension": ".py",
   "mimetype": "text/x-python",
   "name": "python",
   "nbconvert_exporter": "python",
   "pygments_lexer": "ipython3",
   "version": "3.6.5"
  }
 },
 "nbformat": 4,
 "nbformat_minor": 2
}
